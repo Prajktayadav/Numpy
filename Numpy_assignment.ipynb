{
  "nbformat": 4,
  "nbformat_minor": 0,
  "metadata": {
    "colab": {
      "provenance": []
    },
    "kernelspec": {
      "name": "python3",
      "display_name": "Python 3"
    },
    "language_info": {
      "name": "python"
    }
  },
  "cells": [
    {
      "cell_type": "code",
      "execution_count": null,
      "metadata": {
        "id": "XJiZTf_U1WX4"
      },
      "outputs": [],
      "source": [
        "#1.What is a python library?Why do we use python libraries\n",
        "\n",
        "\n",
        "#A Python library is a collection of pre-written code (functions, classes, modules, etc.) that developers can use to perform specific tasks without having to implement the functionality from scratch.\n",
        "#These libraries are created to provide reusable and well-tested solutions to common programming problems.\n",
        "#Python libraries are used for various reasons, including:\n",
        "\n",
        "\n",
        "#1.Code Reusability: Libraries allow developers to reuse existing code rather than writing it from scratch. This saves time and effort, as developers can leverage the functionality provided by the library to perform complex tasks quickly.\n",
        "\n",
        "#2.Increased Productivity: By using libraries, developers can focus on solving higher-level problems rather than getting bogged down in the details of low-level implementation. This leads to increased productivity and faster development cycles.\n",
        "\n",
        "#3.Modularity: Libraries promote modular programming by providing a way to organize code into separate components. This makes the codebase easier to maintain, debug, and extend over time.\n",
        "\n",
        "#4.Community Support: Many Python libraries are open-source and have large communities of developers contributing to their development and maintenance. This means that libraries often have extensive documentation, tutorials, and support forums available, making it easier for developers to learn and use them effectively.\n",
        "\n",
        "#5.Performance Optimization: Python libraries are often written in C or C++ for performance-critical tasks, which can significantly improve the execution speed of Python programs.\n"
      ]
    },
    {
      "cell_type": "code",
      "source": [
        "#2.what is the difference between numpy array and list\n",
        "\n",
        "\n",
        "#1.Data Type:\n",
        "#NumPy arrays are homogeneous, meaning they contain elements of the same data type. This allows for more efficient storage and computation, especially for numerical data.\n",
        "#Python lists are heterogeneous, meaning they can contain elements of different data types. This flexibility comes at the cost of reduced performance and memory efficiency compared to NumPy arrays.\n",
        "\n",
        "#2.Memory Efficiency:\n",
        "#NumPy arrays are more memory efficient compared to Python lists. Since NumPy arrays are homogeneous, they require less memory overhead for storing elements.\n",
        "#Python lists have more memory overhead due to the additional information required to store heterogeneous elements and support dynamic resizing.\n",
        "\n",
        "#3.Performance:\n",
        "#NumPy arrays provide faster computation for numerical operations compared to Python lists. NumPy operations are implemented in compiled C code, leading to optimized performance.\n",
        "#Python lists are slower for numerical computations, especially when iterating over elements, due to the dynamic typing and interpretation overhead.\n",
        "\n",
        "#4.Functionality:\n",
        "#NumPy arrays offer a wide range of mathematical functions and operations, such as element-wise operations, linear algebra, statistical functions, and Fourier transforms. These functions are optimized for performance and are not available for Python lists.\n",
        "#Python lists provide more flexibility in terms of data storage and manipulation. They support dynamic resizing, appending, slicing, and other operations, but lack specialized numerical functions available in NumPy arrays.\n",
        "\n",
        "#5.Syntax and Expressiveness:\n",
        "#NumPy arrays have a more concise and expressive syntax for performing mathematical operations and working with multi-dimensional data. This makes them well-suited for numerical and scientific computing tasks.\n",
        "#Python lists have a simpler syntax and are more intuitive for general-purpose programming and tasks that do not involve heavy numerical computation.\n",
        "\n"
      ],
      "metadata": {
        "id": "e5yvat4H16aU"
      },
      "execution_count": null,
      "outputs": []
    },
    {
      "cell_type": "code",
      "source": [
        "#3.find the shhape,size and dimension of the following array\n",
        "#[[1,2,3,4]\n",
        "#[5,6,7,8],\n",
        "#[9,10,11,12]]\n",
        "\n",
        "#It seems there's a formatting issue with the array you provided. In Python, each row of a 2D array should be enclosed in square brackets and separated by commas. Let me correct the formatting:\n",
        "\n",
        "arr = [[1, 2, 3, 4],\n",
        "       [5, 6, 7, 8],\n",
        "       [9, 10, 11, 12]]\n",
        "\n",
        "import numpy as np\n",
        "\n",
        "np_arr = np.array(arr)\n",
        "shape = np_arr.shape\n",
        "size = np_arr.size\n",
        "dimension = np_arr.ndim\n",
        "\n",
        "print(\"Shape of the array:\", shape)\n",
        "print(\"Size of the array:\", size)\n",
        "print(\"Dimension of the array:\", dimension)\n"
      ],
      "metadata": {
        "colab": {
          "base_uri": "https://localhost:8080/"
        },
        "id": "0T7NLIzA16W5",
        "outputId": "918f3e57-123c-47d8-939c-4c5370cd4b94"
      },
      "execution_count": 1,
      "outputs": [
        {
          "output_type": "stream",
          "name": "stdout",
          "text": [
            "Shape of the array: (3, 4)\n",
            "Size of the array: 12\n",
            "Dimension of the array: 2\n"
          ]
        }
      ]
    },
    {
      "cell_type": "code",
      "source": [
        "#4.write python code to access the first row of the following array?\n",
        "#[[1,2,3,4]\n",
        "#[5,6,7,8],\n",
        "#[9,10,11,12]]\n",
        "\n",
        "arr = [[1, 2, 3, 4],\n",
        "       [5, 6, 7, 8],\n",
        "       [9, 10, 11, 12]]\n",
        "\n",
        "first_row = arr[0]\n",
        "\n",
        "print(\"First row of the array:\", first_row)\n",
        "\n",
        "\n"
      ],
      "metadata": {
        "colab": {
          "base_uri": "https://localhost:8080/"
        },
        "id": "ZfRuvXAp16Uz",
        "outputId": "58e4a044-8e09-4d08-d688-15ddc624c93d"
      },
      "execution_count": 2,
      "outputs": [
        {
          "output_type": "stream",
          "name": "stdout",
          "text": [
            "First row of the array: [1, 2, 3, 4]\n"
          ]
        }
      ]
    },
    {
      "cell_type": "code",
      "source": [
        "#5.how do you access the element at the third row and forth column from the given numpy array?\n",
        "#[[1,2,3,4]\n",
        "#[5,6,7,8],\n",
        "#[9,10,11,12]]\n",
        "\n",
        "import numpy as np\n",
        "\n",
        "arr = np.array([[1, 2, 3, 4],\n",
        "                [5, 6, 7, 8],\n",
        "                [9, 10, 11, 12]])\n",
        "\n",
        "element = arr[2, 3]\n",
        "\n",
        "print(\"Element at the third row and fourth column:\", element)\n",
        "\n"
      ],
      "metadata": {
        "colab": {
          "base_uri": "https://localhost:8080/"
        },
        "id": "5fxwTk_t16Sq",
        "outputId": "2d0450ba-d573-400a-90c9-bb652a2a3d3a"
      },
      "execution_count": 3,
      "outputs": [
        {
          "output_type": "stream",
          "name": "stdout",
          "text": [
            "Element at the third row and fourth column: 12\n"
          ]
        }
      ]
    },
    {
      "cell_type": "code",
      "source": [
        "#6.write code to extract all odd-indexed element from the given numpy array?\n",
        "#[[1,2,3,4]\n",
        "#[5,6,7,8],\n",
        "#[9,10,11,12]]\n",
        "\n",
        "\n",
        "import numpy as np\n",
        "\n",
        "arr = np.array([[1, 2, 3, 4],\n",
        "                [5, 6, 7, 8],\n",
        "                [9, 10, 11, 12]])\n",
        "\n",
        "odd_indexed_elements = arr[:, 1::2]\n",
        "\n",
        "print(\"Odd-indexed elements:\")\n",
        "print(odd_indexed_elements)\n"
      ],
      "metadata": {
        "colab": {
          "base_uri": "https://localhost:8080/"
        },
        "id": "hV0HQZAV13mn",
        "outputId": "c56a9401-240a-47dd-dcff-85699dad91b2"
      },
      "execution_count": 4,
      "outputs": [
        {
          "output_type": "stream",
          "name": "stdout",
          "text": [
            "Odd-indexed elements:\n",
            "[[ 2  4]\n",
            " [ 6  8]\n",
            " [10 12]]\n"
          ]
        }
      ]
    },
    {
      "cell_type": "code",
      "source": [
        "#7.how can you generate a random 3*3 matrix with values between 0 and 1?\n",
        "\n",
        "import numpy as np\n",
        "\n",
        "random_matrix = np.random.rand(3, 3)\n",
        "\n",
        "print(\"Random 3x3 matrix:\")\n",
        "print(random_matrix)\n",
        "\n"
      ],
      "metadata": {
        "colab": {
          "base_uri": "https://localhost:8080/"
        },
        "id": "XGc_i0Ip6A2a",
        "outputId": "589a99f6-f416-4995-9e59-47be3eb2f9cd"
      },
      "execution_count": 5,
      "outputs": [
        {
          "output_type": "stream",
          "name": "stdout",
          "text": [
            "Random 3x3 matrix:\n",
            "[[0.01201434 0.69622722 0.74013359]\n",
            " [0.66019229 0.39701938 0.73911856]\n",
            " [0.15665222 0.10747875 0.75438544]]\n"
          ]
        }
      ]
    },
    {
      "cell_type": "code",
      "source": [
        "#8.describe the difference between np.random.rand. and np.random.randn?\n",
        "\n",
        "#1.np.random.rand():\n",
        "#I.This function generates random numbers from a uniform distribution over the range [0, 1).\n",
        "#II.The shape of the output array is specified as arguments to the function.\n",
        "#III.Each element in the output array is an independent random number uniformly distributed between 0 and 1.\n",
        "#IV.The function takes the dimensions of the desired array as input parameters.\n",
        "\n",
        "#2.np.random.randn():\n",
        "#I.This function generates random numbers from a standard normal distribution (mean=0, standard deviation=1).\n",
        "#II.The shape of the output array is specified as arguments to the function.\n",
        "#III.Each element in the output array is an independent random number drawn from a standard normal distribution.\n",
        "#IV.The function takes the dimensions of the desired array as input parameters.\n",
        "\n",
        "#In summary:\n",
        "#np.random.rand() generates random numbers from a uniform distribution over [0, 1), and you specify the array shape.\n",
        "#np.random.randn() generates random numbers from a standard normal distribution (mean=0, standard deviation=1), and you specify the array shape.\n",
        "\n",
        "import numpy as np\n",
        "\n",
        "rand_matrix = np.random.rand(2, 2)\n",
        "randn_matrix = np.random.randn(2, 2)\n",
        "\n",
        "print(\"Random matrix from uniform distribution:\")\n",
        "print(rand_matrix)\n",
        "\n",
        "print(\"\\nRandom matrix from standard normal distribution:\")\n",
        "print(randn_matrix)\n",
        "\n"
      ],
      "metadata": {
        "colab": {
          "base_uri": "https://localhost:8080/"
        },
        "id": "onymx3fJ6TES",
        "outputId": "9603d2e4-3570-4037-9110-ed5955d204d0"
      },
      "execution_count": 6,
      "outputs": [
        {
          "output_type": "stream",
          "name": "stdout",
          "text": [
            "Random matrix from uniform distribution:\n",
            "[[0.5283912  0.64897844]\n",
            " [0.89515779 0.74656108]]\n",
            "\n",
            "Random matrix from standard normal distribution:\n",
            "[[ 0.4453011   0.62747631]\n",
            " [-1.23358047  0.87435775]]\n"
          ]
        }
      ]
    },
    {
      "cell_type": "code",
      "source": [
        "#9.write code to increase the dimension of the following array?\n",
        "#[[1,2,3,4]\n",
        "#[5,6,7,8],\n",
        "#[9,10,11,12]]\n",
        "\n",
        "import numpy as np\n",
        "\n",
        "arr = [[1, 2, 3, 4],\n",
        "       [5, 6, 7, 8],\n",
        "       [9, 10, 11, 12]]\n",
        "\n",
        "np_arr = np.array(arr)\n",
        "expanded_arr = np.expand_dims(np_arr, axis=0)\n",
        "\n",
        "print(\"Original array shape:\", np_arr.shape)\n",
        "print(\"Expanded array shape:\", expanded_arr.shape)\n",
        "\n",
        "#np.expand_dims(np_arr, axis=0) adds an additional axis at position 0, effectively increasing the dimension of the array. This results in an array with shape (1, 3, 4).\n",
        "#axis=0 specifies the position along which the new axis will be added. In this case, it's added at the beginning, making the shape (1, 3, 4).\n"
      ],
      "metadata": {
        "colab": {
          "base_uri": "https://localhost:8080/"
        },
        "id": "uW8VISos7FJ0",
        "outputId": "875691c2-57d4-4c3b-d718-cdc9c5665f90"
      },
      "execution_count": 7,
      "outputs": [
        {
          "output_type": "stream",
          "name": "stdout",
          "text": [
            "Original array shape: (3, 4)\n",
            "Expanded array shape: (1, 3, 4)\n"
          ]
        }
      ]
    },
    {
      "cell_type": "code",
      "source": [
        "#10.how to transpose the following array in numpy\n",
        "#[[1,2,3,4]\n",
        "#[5,6,7,8],\n",
        "#[9,10,11,12]]\n",
        "\n",
        "import numpy as np\n",
        "arr = [[1, 2, 3, 4],\n",
        "       [5, 6, 7, 8],\n",
        "       [9, 10, 11, 12]]\n",
        "\n",
        "np_arr = np.array(arr)\n",
        "\n",
        "transposed_arr = np.transpose(np_arr)\n",
        "\n",
        "print(\"Original array:\")\n",
        "print(np_arr)\n",
        "print(\"\\nTransposed array:\")\n",
        "print(transposed_arr)\n",
        "\n"
      ],
      "metadata": {
        "colab": {
          "base_uri": "https://localhost:8080/"
        },
        "id": "Jisvw2eL8TS1",
        "outputId": "4cc74cac-f6f8-433e-aa0f-8e62b6ac39ed"
      },
      "execution_count": 8,
      "outputs": [
        {
          "output_type": "stream",
          "name": "stdout",
          "text": [
            "Original array:\n",
            "[[ 1  2  3  4]\n",
            " [ 5  6  7  8]\n",
            " [ 9 10 11 12]]\n",
            "\n",
            "Transposed array:\n",
            "[[ 1  5  9]\n",
            " [ 2  6 10]\n",
            " [ 3  7 11]\n",
            " [ 4  8 12]]\n"
          ]
        }
      ]
    },
    {
      "cell_type": "code",
      "source": [
        "#11.User\n",
        "#consider the following matrix\n",
        "#matrix A:[[1,2,3,4][5,6,7,8],[9,10,11,12]]\n",
        "#matrix B:[[1,2,3,4],[5,6,7,8],[9,10,11,12]]\n",
        "\n",
        "#perform the following operation using python\n",
        "#1.index wise numtiplication\n",
        "#2.matrix multiplication\n",
        "#3.add both the maatric\n",
        "#4.subtract matrix B from A\n",
        "#5.divide mtrix B by A\n",
        "\n",
        "\n",
        "import numpy as np\n",
        "\n",
        "A = np.array([[1, 2, 3, 4],\n",
        "              [5, 6, 7, 8],\n",
        "              [9, 10, 11, 12]])\n",
        "\n",
        "B = np.array([[1, 2, 3, 4],\n",
        "              [5, 6, 7, 8],\n",
        "              [9, 10, 11, 12]])\n",
        "\n",
        "\n",
        "index_wise_multiplication = A * B\n",
        "\n",
        "matrix_multiplication = np.dot(A, B.T)\n",
        "\n",
        "matrix_addition = A + B\n",
        "\n",
        "matrix_subtraction = A - B\n",
        "\n",
        "A_with_epsilon = np.where(A == 0, 1e-15, A)\n",
        "matrix_division = B / A_with_epsilon\n",
        "\n",
        "print(\"Index-wise multiplication:\")\n",
        "print(index_wise_multiplication)\n",
        "\n",
        "print(\"\\nMatrix multiplication:\")\n",
        "print(matrix_multiplication)\n",
        "\n",
        "print(\"\\nMatrix addition:\")\n",
        "print(matrix_addition)\n",
        "\n",
        "print(\"\\nMatrix subtraction:\")\n",
        "print(matrix_subtraction)\n",
        "\n",
        "print(\"\\nMatrix division:\")\n",
        "print(matrix_division)\n"
      ],
      "metadata": {
        "colab": {
          "base_uri": "https://localhost:8080/"
        },
        "id": "8Kt0uvoG8sQv",
        "outputId": "8e2a22e3-4f8a-423d-cd12-4f795e247733"
      },
      "execution_count": 9,
      "outputs": [
        {
          "output_type": "stream",
          "name": "stdout",
          "text": [
            "Index-wise multiplication:\n",
            "[[  1   4   9  16]\n",
            " [ 25  36  49  64]\n",
            " [ 81 100 121 144]]\n",
            "\n",
            "Matrix multiplication:\n",
            "[[ 30  70 110]\n",
            " [ 70 174 278]\n",
            " [110 278 446]]\n",
            "\n",
            "Matrix addition:\n",
            "[[ 2  4  6  8]\n",
            " [10 12 14 16]\n",
            " [18 20 22 24]]\n",
            "\n",
            "Matrix subtraction:\n",
            "[[0 0 0 0]\n",
            " [0 0 0 0]\n",
            " [0 0 0 0]]\n",
            "\n",
            "Matrix division:\n",
            "[[1. 1. 1. 1.]\n",
            " [1. 1. 1. 1.]\n",
            " [1. 1. 1. 1.]]\n"
          ]
        }
      ]
    },
    {
      "cell_type": "code",
      "source": [
        "#12.which function in numpy can be used to swap the byte order of an array\n",
        "\n",
        "import numpy as np\n",
        "\n",
        "arr = np.array([1, 2, 3, 4], dtype=np.int32)\n",
        "\n",
        "arr_swapped = arr.byteswap()\n",
        "\n",
        "print(\"Original array:\", arr)\n",
        "print(\"Array with swapped byte order:\", arr_swapped)\n",
        "\n"
      ],
      "metadata": {
        "colab": {
          "base_uri": "https://localhost:8080/"
        },
        "id": "hvuZMjHS98Hg",
        "outputId": "0933abcb-51b5-49e6-c4a1-0eb368d2fc65"
      },
      "execution_count": 10,
      "outputs": [
        {
          "output_type": "stream",
          "name": "stdout",
          "text": [
            "Original array: [1 2 3 4]\n",
            "Array with swapped byte order: [16777216 33554432 50331648 67108864]\n"
          ]
        }
      ]
    },
    {
      "cell_type": "code",
      "source": [
        "#13.what is the significance of the np.linalg.inv function\n",
        "\n",
        "#The np.linalg,inv function in numpy is used to compute the inverse of a square matrix.\n",
        "#The inverse of a matrix A is another matrix,denoted as A-1,such that the product of A and its inverse A-1 equals the identity matrix I.\n",
        "#In other words,A.A-1 = A-1.A=I\n",
        "\n",
        "#The significance of np.linalg.inv lies in its application in various mathematical and computational problems, including:\n",
        "\n",
        "#1.Solving Linrar Systems:\n",
        "#The inverse of a matrix can be used to solve systems of linear equations of the form Ax=b,where A is a coefficient matrix,x is the vector of unknowns,and b is the right-hand side vector.\n",
        "#The solution can be obtained as x = A-1.n.\n",
        "\n",
        "#2.Computing Determinants: The determinant of a matrix can be computed using the inverse. Specifically,\n",
        "#det,(A) = 1/det(A-1).\n",
        "\n",
        "#3.Eigenvalue and Eigenvector Computations: Eigenvalues and eigenvectors of a matrix can be computed using its inverse in certain contexts.\n",
        "\n",
        "#4.Numerical Stability: In some numerical algorithms, it may be more numerically stable to compute the inverse of a matrix explicitly rather than solving linear systems directly.\n"
      ],
      "metadata": {
        "id": "FmPvbT6I-OkP"
      },
      "execution_count": 11,
      "outputs": []
    },
    {
      "cell_type": "code",
      "source": [
        "#14.what does the np.reshape function do, and how is it used?\n",
        "\n",
        "#The np.reshape function takes the following parameters:\n",
        "\n",
        "#a: The array to be reshaped.\n",
        "#newshape: The new shape of the array, specified as a tuple of integers representing the dimensions of the new array.\n",
        "\n",
        "import numpy as np\n",
        "\n",
        "arr = np.array([1, 2, 3, 4, 5, 6])\n",
        "\n",
        "reshaped_arr = np.reshape(arr, (2, 3))\n",
        "\n",
        "print(\"Original array:\")\n",
        "print(arr)\n",
        "\n",
        "print(\"\\nReshaped array:\")\n",
        "print(reshaped_arr)\n",
        "\n"
      ],
      "metadata": {
        "colab": {
          "base_uri": "https://localhost:8080/"
        },
        "id": "O-y-8HaAC5iH",
        "outputId": "39c1b190-4c48-4442-c3d4-62cf376bd68f"
      },
      "execution_count": 12,
      "outputs": [
        {
          "output_type": "stream",
          "name": "stdout",
          "text": [
            "Original array:\n",
            "[1 2 3 4 5 6]\n",
            "\n",
            "Reshaped array:\n",
            "[[1 2 3]\n",
            " [4 5 6]]\n"
          ]
        }
      ]
    },
    {
      "cell_type": "code",
      "source": [
        "#15.what is broadcasting is numpy\n",
        "\n",
        "#Broadcasting is a powerful feature in NumPy that allows arrays with different shapes to be combined or operated upon together.\n",
        "#When performing operations on arrays with different shapes, NumPy automatically broadcasts the arrays to make their shapes compatible, without the need for explicit looping.\n",
        "\n",
        "#The broadcasting rules in NumPy are as follows:\n",
        "#If the arrays have different numbers of dimensions, the shape of the array with fewer dimensions is padded with ones on its left side.\n",
        "#If the shape of the two arrays does not match in any dimension, the array with shape equal to 1 in that dimension is stretched to match the other shape.\n",
        "#If in any dimension the sizes disagree and neither is equal to 1, an error is raised.\n",
        "\n",
        "\n",
        "import numpy as np\n",
        "\n",
        "a = np.array([[1, 2, 3],\n",
        "              [4, 5, 6]])\n",
        "\n",
        "b = np.array([10, 20, 30])\n",
        "\n",
        "result = a + b\n",
        "\n",
        "print(result)\n"
      ],
      "metadata": {
        "colab": {
          "base_uri": "https://localhost:8080/"
        },
        "id": "9ffpMt6ZC6pJ",
        "outputId": "be8de9fa-3a08-4036-fe39-5a6958e5c2ae"
      },
      "execution_count": 13,
      "outputs": [
        {
          "output_type": "stream",
          "name": "stdout",
          "text": [
            "[[11 22 33]\n",
            " [14 25 36]]\n"
          ]
        }
      ]
    },
    {
      "cell_type": "code",
      "source": [],
      "metadata": {
        "id": "6-GDjVS7C6lk"
      },
      "execution_count": null,
      "outputs": []
    },
    {
      "cell_type": "code",
      "source": [],
      "metadata": {
        "id": "m343OObXC6jn"
      },
      "execution_count": null,
      "outputs": []
    }
  ]
}